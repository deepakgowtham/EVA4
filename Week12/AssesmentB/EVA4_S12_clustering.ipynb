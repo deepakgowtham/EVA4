{
  "nbformat": 4,
  "nbformat_minor": 0,
  "metadata": {
    "colab": {
      "name": "EVA4_S12_clustering.ipynb",
      "provenance": [],
      "authorship_tag": "ABX9TyPLLIdVwzg3OlHd2pPMDPqg",
      "include_colab_link": true
    },
    "kernelspec": {
      "name": "python3",
      "display_name": "Python 3"
    }
  },
  "cells": [
    {
      "cell_type": "markdown",
      "metadata": {
        "id": "view-in-github",
        "colab_type": "text"
      },
      "source": [
        "<a href=\"https://colab.research.google.com/github/deepakgowtham/EVA4/blob/master/Week12/AssesmentB/EVA4_S12_clustering.ipynb\" target=\"_parent\"><img src=\"https://colab.research.google.com/assets/colab-badge.svg\" alt=\"Open In Colab\"/></a>"
      ]
    },
    {
      "cell_type": "code",
      "metadata": {
        "id": "0ly6dbm7Tedq",
        "colab_type": "code",
        "colab": {}
      },
      "source": [
        "import pandas as pd\n",
        "import numpy as np\n",
        "from matplotlib import pyplot as plt\n",
        "from sklearn.cluster import KMeans"
      ],
      "execution_count": 0,
      "outputs": []
    },
    {
      "cell_type": "code",
      "metadata": {
        "id": "ESKt9R0oDZJh",
        "colab_type": "code",
        "colab": {}
      },
      "source": [
        "df=pd.read_json('via_export_json.json')\n",
        "df =df.transpose()"
      ],
      "execution_count": 0,
      "outputs": []
    },
    {
      "cell_type": "code",
      "metadata": {
        "id": "svpEeD2fDhX_",
        "colab_type": "code",
        "outputId": "4f4e106a-8100-4ed6-e809-8a26c866c162",
        "colab": {
          "base_uri": "https://localhost:8080/",
          "height": 204
        }
      },
      "source": [
        "df.head()"
      ],
      "execution_count": 0,
      "outputs": [
        {
          "output_type": "execute_result",
          "data": {
            "text/html": [
              "<div>\n",
              "<style scoped>\n",
              "    .dataframe tbody tr th:only-of-type {\n",
              "        vertical-align: middle;\n",
              "    }\n",
              "\n",
              "    .dataframe tbody tr th {\n",
              "        vertical-align: top;\n",
              "    }\n",
              "\n",
              "    .dataframe thead th {\n",
              "        text-align: right;\n",
              "    }\n",
              "</style>\n",
              "<table border=\"1\" class=\"dataframe\">\n",
              "  <thead>\n",
              "    <tr style=\"text-align: right;\">\n",
              "      <th></th>\n",
              "      <th>filename</th>\n",
              "      <th>size</th>\n",
              "      <th>regions</th>\n",
              "      <th>file_attributes</th>\n",
              "    </tr>\n",
              "  </thead>\n",
              "  <tbody>\n",
              "    <tr>\n",
              "      <th>dog.0.jpg32053</th>\n",
              "      <td>dog.0.jpg</td>\n",
              "      <td>32053</td>\n",
              "      <td>[{'shape_attributes': {'name': 'rect', 'x': 61...</td>\n",
              "      <td>{'caption': '', 'public_domain': 'no', 'image_...</td>\n",
              "    </tr>\n",
              "    <tr>\n",
              "      <th>dog.1.jpg25034</th>\n",
              "      <td>dog.1.jpg</td>\n",
              "      <td>25034</td>\n",
              "      <td>[{'shape_attributes': {'name': 'rect', 'x': 38...</td>\n",
              "      <td>{'caption': '', 'public_domain': 'no', 'image_...</td>\n",
              "    </tr>\n",
              "    <tr>\n",
              "      <th>dog.2.jpg8490</th>\n",
              "      <td>dog.2.jpg</td>\n",
              "      <td>8490</td>\n",
              "      <td>[{'shape_attributes': {'name': 'rect', 'x': 66...</td>\n",
              "      <td>{'caption': '', 'public_domain': 'no', 'image_...</td>\n",
              "    </tr>\n",
              "    <tr>\n",
              "      <th>dog.3.jpg28457</th>\n",
              "      <td>dog.3.jpg</td>\n",
              "      <td>28457</td>\n",
              "      <td>[{'shape_attributes': {'name': 'rect', 'x': 29...</td>\n",
              "      <td>{'caption': '', 'public_domain': 'no', 'image_...</td>\n",
              "    </tr>\n",
              "    <tr>\n",
              "      <th>dog.4.jpg12992</th>\n",
              "      <td>dog.4.jpg</td>\n",
              "      <td>12992</td>\n",
              "      <td>[{'shape_attributes': {'name': 'rect', 'x': 35...</td>\n",
              "      <td>{'caption': '', 'public_domain': 'no', 'image_...</td>\n",
              "    </tr>\n",
              "  </tbody>\n",
              "</table>\n",
              "</div>"
            ],
            "text/plain": [
              "                 filename  ...                                    file_attributes\n",
              "dog.0.jpg32053  dog.0.jpg  ...  {'caption': '', 'public_domain': 'no', 'image_...\n",
              "dog.1.jpg25034  dog.1.jpg  ...  {'caption': '', 'public_domain': 'no', 'image_...\n",
              "dog.2.jpg8490   dog.2.jpg  ...  {'caption': '', 'public_domain': 'no', 'image_...\n",
              "dog.3.jpg28457  dog.3.jpg  ...  {'caption': '', 'public_domain': 'no', 'image_...\n",
              "dog.4.jpg12992  dog.4.jpg  ...  {'caption': '', 'public_domain': 'no', 'image_...\n",
              "\n",
              "[5 rows x 4 columns]"
            ]
          },
          "metadata": {
            "tags": []
          },
          "execution_count": 3
        }
      ]
    },
    {
      "cell_type": "code",
      "metadata": {
        "id": "kcnF6cy3DiTw",
        "colab_type": "code",
        "colab": {}
      },
      "source": [
        "img_data=df.reset_index()[['filename', 'regions']]"
      ],
      "execution_count": 0,
      "outputs": []
    },
    {
      "cell_type": "code",
      "metadata": {
        "id": "Tpvm2QgEItCZ",
        "colab_type": "code",
        "outputId": "afe75ce3-c3ca-4cd5-8f76-bbf3e39e622b",
        "colab": {
          "base_uri": "https://localhost:8080/",
          "height": 204
        }
      },
      "source": [
        "img_data.head()"
      ],
      "execution_count": 0,
      "outputs": [
        {
          "output_type": "execute_result",
          "data": {
            "text/html": [
              "<div>\n",
              "<style scoped>\n",
              "    .dataframe tbody tr th:only-of-type {\n",
              "        vertical-align: middle;\n",
              "    }\n",
              "\n",
              "    .dataframe tbody tr th {\n",
              "        vertical-align: top;\n",
              "    }\n",
              "\n",
              "    .dataframe thead th {\n",
              "        text-align: right;\n",
              "    }\n",
              "</style>\n",
              "<table border=\"1\" class=\"dataframe\">\n",
              "  <thead>\n",
              "    <tr style=\"text-align: right;\">\n",
              "      <th></th>\n",
              "      <th>filename</th>\n",
              "      <th>regions</th>\n",
              "    </tr>\n",
              "  </thead>\n",
              "  <tbody>\n",
              "    <tr>\n",
              "      <th>0</th>\n",
              "      <td>dog.0.jpg</td>\n",
              "      <td>[{'shape_attributes': {'name': 'rect', 'x': 61...</td>\n",
              "    </tr>\n",
              "    <tr>\n",
              "      <th>1</th>\n",
              "      <td>dog.1.jpg</td>\n",
              "      <td>[{'shape_attributes': {'name': 'rect', 'x': 38...</td>\n",
              "    </tr>\n",
              "    <tr>\n",
              "      <th>2</th>\n",
              "      <td>dog.2.jpg</td>\n",
              "      <td>[{'shape_attributes': {'name': 'rect', 'x': 66...</td>\n",
              "    </tr>\n",
              "    <tr>\n",
              "      <th>3</th>\n",
              "      <td>dog.3.jpg</td>\n",
              "      <td>[{'shape_attributes': {'name': 'rect', 'x': 29...</td>\n",
              "    </tr>\n",
              "    <tr>\n",
              "      <th>4</th>\n",
              "      <td>dog.4.jpg</td>\n",
              "      <td>[{'shape_attributes': {'name': 'rect', 'x': 35...</td>\n",
              "    </tr>\n",
              "  </tbody>\n",
              "</table>\n",
              "</div>"
            ],
            "text/plain": [
              "    filename                                            regions\n",
              "0  dog.0.jpg  [{'shape_attributes': {'name': 'rect', 'x': 61...\n",
              "1  dog.1.jpg  [{'shape_attributes': {'name': 'rect', 'x': 38...\n",
              "2  dog.2.jpg  [{'shape_attributes': {'name': 'rect', 'x': 66...\n",
              "3  dog.3.jpg  [{'shape_attributes': {'name': 'rect', 'x': 29...\n",
              "4  dog.4.jpg  [{'shape_attributes': {'name': 'rect', 'x': 35..."
            ]
          },
          "metadata": {
            "tags": []
          },
          "execution_count": 5
        }
      ]
    },
    {
      "cell_type": "code",
      "metadata": {
        "id": "y3PTgGA9JXkX",
        "colab_type": "code",
        "outputId": "c16bb12e-fc9f-4676-d964-ee06cea1f8c1",
        "colab": {
          "base_uri": "https://localhost:8080/",
          "height": 119
        }
      },
      "source": [
        "img_data['regions'].head()"
      ],
      "execution_count": 0,
      "outputs": [
        {
          "output_type": "execute_result",
          "data": {
            "text/plain": [
              "0    [{'shape_attributes': {'name': 'rect', 'x': 61...\n",
              "1    [{'shape_attributes': {'name': 'rect', 'x': 38...\n",
              "2    [{'shape_attributes': {'name': 'rect', 'x': 66...\n",
              "3    [{'shape_attributes': {'name': 'rect', 'x': 29...\n",
              "4    [{'shape_attributes': {'name': 'rect', 'x': 35...\n",
              "Name: regions, dtype: object"
            ]
          },
          "metadata": {
            "tags": []
          },
          "execution_count": 6
        }
      ]
    },
    {
      "cell_type": "code",
      "metadata": {
        "id": "KK6WBQWGJj9k",
        "colab_type": "code",
        "colab": {}
      },
      "source": [
        "data_list=[]\n",
        "for row in range(img_data.shape[0]):\n",
        "  data=img_data['regions'][row][0]['shape_attributes']\n",
        "  data_list.append(data)"
      ],
      "execution_count": 0,
      "outputs": []
    },
    {
      "cell_type": "code",
      "metadata": {
        "id": "DUc5zXy4JwQE",
        "colab_type": "code",
        "colab": {}
      },
      "source": [
        "shape_df=pd.DataFrame(data_list)"
      ],
      "execution_count": 0,
      "outputs": []
    },
    {
      "cell_type": "code",
      "metadata": {
        "id": "e2rG_jMhPGuH",
        "colab_type": "code",
        "outputId": "00657984-bfe8-474b-ea16-ba54cecece8f",
        "colab": {
          "base_uri": "https://localhost:8080/",
          "height": 204
        }
      },
      "source": [
        "shape_df.head()"
      ],
      "execution_count": 0,
      "outputs": [
        {
          "output_type": "execute_result",
          "data": {
            "text/html": [
              "<div>\n",
              "<style scoped>\n",
              "    .dataframe tbody tr th:only-of-type {\n",
              "        vertical-align: middle;\n",
              "    }\n",
              "\n",
              "    .dataframe tbody tr th {\n",
              "        vertical-align: top;\n",
              "    }\n",
              "\n",
              "    .dataframe thead th {\n",
              "        text-align: right;\n",
              "    }\n",
              "</style>\n",
              "<table border=\"1\" class=\"dataframe\">\n",
              "  <thead>\n",
              "    <tr style=\"text-align: right;\">\n",
              "      <th></th>\n",
              "      <th>name</th>\n",
              "      <th>x</th>\n",
              "      <th>y</th>\n",
              "      <th>width</th>\n",
              "      <th>height</th>\n",
              "    </tr>\n",
              "  </thead>\n",
              "  <tbody>\n",
              "    <tr>\n",
              "      <th>0</th>\n",
              "      <td>rect</td>\n",
              "      <td>61</td>\n",
              "      <td>10</td>\n",
              "      <td>322</td>\n",
              "      <td>303</td>\n",
              "    </tr>\n",
              "    <tr>\n",
              "      <th>1</th>\n",
              "      <td>rect</td>\n",
              "      <td>38</td>\n",
              "      <td>30</td>\n",
              "      <td>254</td>\n",
              "      <td>440</td>\n",
              "    </tr>\n",
              "    <tr>\n",
              "      <th>2</th>\n",
              "      <td>rect</td>\n",
              "      <td>66</td>\n",
              "      <td>30</td>\n",
              "      <td>95</td>\n",
              "      <td>151</td>\n",
              "    </tr>\n",
              "    <tr>\n",
              "      <th>3</th>\n",
              "      <td>rect</td>\n",
              "      <td>29</td>\n",
              "      <td>3</td>\n",
              "      <td>468</td>\n",
              "      <td>349</td>\n",
              "    </tr>\n",
              "    <tr>\n",
              "      <th>4</th>\n",
              "      <td>rect</td>\n",
              "      <td>35</td>\n",
              "      <td>11</td>\n",
              "      <td>242</td>\n",
              "      <td>270</td>\n",
              "    </tr>\n",
              "  </tbody>\n",
              "</table>\n",
              "</div>"
            ],
            "text/plain": [
              "   name   x   y  width  height\n",
              "0  rect  61  10    322     303\n",
              "1  rect  38  30    254     440\n",
              "2  rect  66  30     95     151\n",
              "3  rect  29   3    468     349\n",
              "4  rect  35  11    242     270"
            ]
          },
          "metadata": {
            "tags": []
          },
          "execution_count": 9
        }
      ]
    },
    {
      "cell_type": "code",
      "metadata": {
        "id": "Za3jtUD3PRFD",
        "colab_type": "code",
        "colab": {}
      },
      "source": [
        "annotate_data=pd.concat([img_data[['filename']], shape_df[['x',\t'y','width','height']]],1)"
      ],
      "execution_count": 0,
      "outputs": []
    },
    {
      "cell_type": "code",
      "metadata": {
        "id": "OqW5tu_kSg1B",
        "colab_type": "code",
        "outputId": "a806ceb2-5abb-4c11-9220-a9f82acf53f6",
        "colab": {
          "base_uri": "https://localhost:8080/",
          "height": 204
        }
      },
      "source": [
        "annotate_data.head()"
      ],
      "execution_count": 0,
      "outputs": [
        {
          "output_type": "execute_result",
          "data": {
            "text/html": [
              "<div>\n",
              "<style scoped>\n",
              "    .dataframe tbody tr th:only-of-type {\n",
              "        vertical-align: middle;\n",
              "    }\n",
              "\n",
              "    .dataframe tbody tr th {\n",
              "        vertical-align: top;\n",
              "    }\n",
              "\n",
              "    .dataframe thead th {\n",
              "        text-align: right;\n",
              "    }\n",
              "</style>\n",
              "<table border=\"1\" class=\"dataframe\">\n",
              "  <thead>\n",
              "    <tr style=\"text-align: right;\">\n",
              "      <th></th>\n",
              "      <th>filename</th>\n",
              "      <th>x</th>\n",
              "      <th>y</th>\n",
              "      <th>width</th>\n",
              "      <th>height</th>\n",
              "    </tr>\n",
              "  </thead>\n",
              "  <tbody>\n",
              "    <tr>\n",
              "      <th>0</th>\n",
              "      <td>dog.0.jpg</td>\n",
              "      <td>61</td>\n",
              "      <td>10</td>\n",
              "      <td>322</td>\n",
              "      <td>303</td>\n",
              "    </tr>\n",
              "    <tr>\n",
              "      <th>1</th>\n",
              "      <td>dog.1.jpg</td>\n",
              "      <td>38</td>\n",
              "      <td>30</td>\n",
              "      <td>254</td>\n",
              "      <td>440</td>\n",
              "    </tr>\n",
              "    <tr>\n",
              "      <th>2</th>\n",
              "      <td>dog.2.jpg</td>\n",
              "      <td>66</td>\n",
              "      <td>30</td>\n",
              "      <td>95</td>\n",
              "      <td>151</td>\n",
              "    </tr>\n",
              "    <tr>\n",
              "      <th>3</th>\n",
              "      <td>dog.3.jpg</td>\n",
              "      <td>29</td>\n",
              "      <td>3</td>\n",
              "      <td>468</td>\n",
              "      <td>349</td>\n",
              "    </tr>\n",
              "    <tr>\n",
              "      <th>4</th>\n",
              "      <td>dog.4.jpg</td>\n",
              "      <td>35</td>\n",
              "      <td>11</td>\n",
              "      <td>242</td>\n",
              "      <td>270</td>\n",
              "    </tr>\n",
              "  </tbody>\n",
              "</table>\n",
              "</div>"
            ],
            "text/plain": [
              "    filename   x   y  width  height\n",
              "0  dog.0.jpg  61  10    322     303\n",
              "1  dog.1.jpg  38  30    254     440\n",
              "2  dog.2.jpg  66  30     95     151\n",
              "3  dog.3.jpg  29   3    468     349\n",
              "4  dog.4.jpg  35  11    242     270"
            ]
          },
          "metadata": {
            "tags": []
          },
          "execution_count": 11
        }
      ]
    },
    {
      "cell_type": "code",
      "metadata": {
        "id": "qBHXDobgSlsx",
        "colab_type": "code",
        "colab": {}
      },
      "source": [
        "annotate_data['norm_x']= annotate_data['x']/ annotate_data['width']\n",
        "annotate_data['norm_y']= annotate_data['y']/ annotate_data['height']"
      ],
      "execution_count": 0,
      "outputs": []
    },
    {
      "cell_type": "code",
      "metadata": {
        "id": "ASVMPMvTcjoa",
        "colab_type": "code",
        "outputId": "aec655e5-ddc1-4c72-f061-ef128d152e6f",
        "colab": {
          "base_uri": "https://localhost:8080/",
          "height": 204
        }
      },
      "source": [
        "annotate_data.head()"
      ],
      "execution_count": 0,
      "outputs": [
        {
          "output_type": "execute_result",
          "data": {
            "text/html": [
              "<div>\n",
              "<style scoped>\n",
              "    .dataframe tbody tr th:only-of-type {\n",
              "        vertical-align: middle;\n",
              "    }\n",
              "\n",
              "    .dataframe tbody tr th {\n",
              "        vertical-align: top;\n",
              "    }\n",
              "\n",
              "    .dataframe thead th {\n",
              "        text-align: right;\n",
              "    }\n",
              "</style>\n",
              "<table border=\"1\" class=\"dataframe\">\n",
              "  <thead>\n",
              "    <tr style=\"text-align: right;\">\n",
              "      <th></th>\n",
              "      <th>filename</th>\n",
              "      <th>x</th>\n",
              "      <th>y</th>\n",
              "      <th>width</th>\n",
              "      <th>height</th>\n",
              "      <th>norm_x</th>\n",
              "      <th>norm_y</th>\n",
              "    </tr>\n",
              "  </thead>\n",
              "  <tbody>\n",
              "    <tr>\n",
              "      <th>0</th>\n",
              "      <td>dog.0.jpg</td>\n",
              "      <td>61</td>\n",
              "      <td>10</td>\n",
              "      <td>322</td>\n",
              "      <td>303</td>\n",
              "      <td>0.189441</td>\n",
              "      <td>0.033003</td>\n",
              "    </tr>\n",
              "    <tr>\n",
              "      <th>1</th>\n",
              "      <td>dog.1.jpg</td>\n",
              "      <td>38</td>\n",
              "      <td>30</td>\n",
              "      <td>254</td>\n",
              "      <td>440</td>\n",
              "      <td>0.149606</td>\n",
              "      <td>0.068182</td>\n",
              "    </tr>\n",
              "    <tr>\n",
              "      <th>2</th>\n",
              "      <td>dog.2.jpg</td>\n",
              "      <td>66</td>\n",
              "      <td>30</td>\n",
              "      <td>95</td>\n",
              "      <td>151</td>\n",
              "      <td>0.694737</td>\n",
              "      <td>0.198675</td>\n",
              "    </tr>\n",
              "    <tr>\n",
              "      <th>3</th>\n",
              "      <td>dog.3.jpg</td>\n",
              "      <td>29</td>\n",
              "      <td>3</td>\n",
              "      <td>468</td>\n",
              "      <td>349</td>\n",
              "      <td>0.061966</td>\n",
              "      <td>0.008596</td>\n",
              "    </tr>\n",
              "    <tr>\n",
              "      <th>4</th>\n",
              "      <td>dog.4.jpg</td>\n",
              "      <td>35</td>\n",
              "      <td>11</td>\n",
              "      <td>242</td>\n",
              "      <td>270</td>\n",
              "      <td>0.144628</td>\n",
              "      <td>0.040741</td>\n",
              "    </tr>\n",
              "  </tbody>\n",
              "</table>\n",
              "</div>"
            ],
            "text/plain": [
              "    filename   x   y  width  height    norm_x    norm_y\n",
              "0  dog.0.jpg  61  10    322     303  0.189441  0.033003\n",
              "1  dog.1.jpg  38  30    254     440  0.149606  0.068182\n",
              "2  dog.2.jpg  66  30     95     151  0.694737  0.198675\n",
              "3  dog.3.jpg  29   3    468     349  0.061966  0.008596\n",
              "4  dog.4.jpg  35  11    242     270  0.144628  0.040741"
            ]
          },
          "metadata": {
            "tags": []
          },
          "execution_count": 13
        }
      ]
    },
    {
      "cell_type": "code",
      "metadata": {
        "id": "ZZu95s5CclA_",
        "colab_type": "code",
        "outputId": "5c8bec4a-5241-47f1-90dd-d46621a901db",
        "colab": {
          "base_uri": "https://localhost:8080/",
          "height": 265
        }
      },
      "source": [
        "plt.scatter(annotate_data.norm_x, annotate_data.norm_y)\n",
        "plt.show()"
      ],
      "execution_count": 0,
      "outputs": [
        {
          "output_type": "display_data",
          "data": {
            "image/png": "[encoded data removed]",
            "text/plain": [
              "<Figure size 432x288 with 1 Axes>"
            ]
          },
          "metadata": {
            "tags": [],
            "needs_background": "light"
          }
        }
      ]
    },
    {
      "cell_type": "code",
      "metadata": {
        "id": "xs1fAHVrjIes",
        "colab_type": "code",
        "outputId": "43bba32d-f44b-4ccd-b2d3-8d8ad3800c29",
        "colab": {
          "base_uri": "https://localhost:8080/",
          "height": 269
        }
      },
      "source": [
        "plt.scatter(annotate_data.norm_x, annotate_data.norm_y)\n",
        "plt.yscale('log')\n",
        "plt.xscale('log')\n",
        "plt.show()"
      ],
      "execution_count": 0,
      "outputs": [
        {
          "output_type": "display_data",
          "data": {
            "image/png": "[encoded data removed]",
            "text/plain": [
              "<Figure size 432x288 with 1 Axes>"
            ]
          },
          "metadata": {
            "tags": [],
            "needs_background": "light"
          }
        }
      ]
    },
    {
      "cell_type": "code",
      "metadata": {
        "id": "mSzBNrqNjUGH",
        "colab_type": "code",
        "outputId": "7c754adf-1aa6-4dc6-bb1d-c788a0268433",
        "colab": {
          "base_uri": "https://localhost:8080/",
          "height": 265
        }
      },
      "source": [
        "plt.scatter(np.log(annotate_data.norm_x), np.log(annotate_data.norm_y))\n",
        "plt.show()"
      ],
      "execution_count": 0,
      "outputs": [
        {
          "output_type": "display_data",
          "data": {
            "image/png": "[encoded data removed]",
            "text/plain": [
              "<Figure size 432x288 with 1 Axes>"
            ]
          },
          "metadata": {
            "tags": [],
            "needs_background": "light"
          }
        }
      ]
    },
    {
      "cell_type": "code",
      "metadata": {
        "id": "viiNocjGcytE",
        "colab_type": "code",
        "colab": {}
      },
      "source": [
        "train_df=annotate_data[['norm_x', 'norm_y']]"
      ],
      "execution_count": 0,
      "outputs": []
    },
    {
      "cell_type": "code",
      "metadata": {
        "id": "qu2hzyCWje38",
        "colab_type": "code",
        "outputId": "c36ab2eb-7735-440c-f72b-0fcdb3ed690f",
        "colab": {
          "base_uri": "https://localhost:8080/",
          "height": 241
        }
      },
      "source": [
        "train_df['log_norm_x']=np.log(annotate_data.norm_x)\n",
        "train_df['log_norm_y']=np.log(annotate_data.norm_y)"
      ],
      "execution_count": 0,
      "outputs": [
        {
          "output_type": "stream",
          "text": [
            "/usr/local/lib/python3.6/dist-packages/ipykernel_launcher.py:1: SettingWithCopyWarning: \n",
            "A value is trying to be set on a copy of a slice from a DataFrame.\n",
            "Try using .loc[row_indexer,col_indexer] = value instead\n",
            "\n",
            "See the caveats in the documentation: https://pandas.pydata.org/pandas-docs/stable/user_guide/indexing.html#returning-a-view-versus-a-copy\n",
            "  \"\"\"Entry point for launching an IPython kernel.\n",
            "/usr/local/lib/python3.6/dist-packages/ipykernel_launcher.py:2: SettingWithCopyWarning: \n",
            "A value is trying to be set on a copy of a slice from a DataFrame.\n",
            "Try using .loc[row_indexer,col_indexer] = value instead\n",
            "\n",
            "See the caveats in the documentation: https://pandas.pydata.org/pandas-docs/stable/user_guide/indexing.html#returning-a-view-versus-a-copy\n",
            "  \n"
          ],
          "name": "stderr"
        }
      ]
    },
    {
      "cell_type": "code",
      "metadata": {
        "id": "3vIR78UVj0Eu",
        "colab_type": "code",
        "outputId": "a90b5b89-e221-4be2-db03-62a2534d43df",
        "colab": {
          "base_uri": "https://localhost:8080/",
          "height": 204
        }
      },
      "source": [
        "train_df.head()"
      ],
      "execution_count": 0,
      "outputs": [
        {
          "output_type": "execute_result",
          "data": {
            "text/html": [
              "<div>\n",
              "<style scoped>\n",
              "    .dataframe tbody tr th:only-of-type {\n",
              "        vertical-align: middle;\n",
              "    }\n",
              "\n",
              "    .dataframe tbody tr th {\n",
              "        vertical-align: top;\n",
              "    }\n",
              "\n",
              "    .dataframe thead th {\n",
              "        text-align: right;\n",
              "    }\n",
              "</style>\n",
              "<table border=\"1\" class=\"dataframe\">\n",
              "  <thead>\n",
              "    <tr style=\"text-align: right;\">\n",
              "      <th></th>\n",
              "      <th>norm_x</th>\n",
              "      <th>norm_y</th>\n",
              "      <th>log_norm_x</th>\n",
              "      <th>log_norm_y</th>\n",
              "    </tr>\n",
              "  </thead>\n",
              "  <tbody>\n",
              "    <tr>\n",
              "      <th>0</th>\n",
              "      <td>0.189441</td>\n",
              "      <td>0.033003</td>\n",
              "      <td>-1.663678</td>\n",
              "      <td>-3.411148</td>\n",
              "    </tr>\n",
              "    <tr>\n",
              "      <th>1</th>\n",
              "      <td>0.149606</td>\n",
              "      <td>0.068182</td>\n",
              "      <td>-1.899748</td>\n",
              "      <td>-2.685577</td>\n",
              "    </tr>\n",
              "    <tr>\n",
              "      <th>2</th>\n",
              "      <td>0.694737</td>\n",
              "      <td>0.198675</td>\n",
              "      <td>-0.364222</td>\n",
              "      <td>-1.616082</td>\n",
              "    </tr>\n",
              "    <tr>\n",
              "      <th>3</th>\n",
              "      <td>0.061966</td>\n",
              "      <td>0.008596</td>\n",
              "      <td>-2.781172</td>\n",
              "      <td>-4.756460</td>\n",
              "    </tr>\n",
              "    <tr>\n",
              "      <th>4</th>\n",
              "      <td>0.144628</td>\n",
              "      <td>0.040741</td>\n",
              "      <td>-1.933590</td>\n",
              "      <td>-3.200527</td>\n",
              "    </tr>\n",
              "  </tbody>\n",
              "</table>\n",
              "</div>"
            ],
            "text/plain": [
              "     norm_x    norm_y  log_norm_x  log_norm_y\n",
              "0  0.189441  0.033003   -1.663678   -3.411148\n",
              "1  0.149606  0.068182   -1.899748   -2.685577\n",
              "2  0.694737  0.198675   -0.364222   -1.616082\n",
              "3  0.061966  0.008596   -2.781172   -4.756460\n",
              "4  0.144628  0.040741   -1.933590   -3.200527"
            ]
          },
          "metadata": {
            "tags": []
          },
          "execution_count": 19
        }
      ]
    },
    {
      "cell_type": "code",
      "metadata": {
        "id": "-9s-cXnddHeI",
        "colab_type": "code",
        "colab": {}
      },
      "source": [
        "cluster =KMeans(n_clusters=5 ).fit(train_df[['norm_x', 'norm_y']])\n",
        "centers=cluster.cluster_centers_\n",
        "labels=cluster.labels_.astype(float)"
      ],
      "execution_count": 0,
      "outputs": []
    },
    {
      "cell_type": "code",
      "metadata": {
        "id": "ctcJ53IBinfD",
        "colab_type": "code",
        "outputId": "9b1ade63-fac2-4c69-db1e-6986fb82cc6f",
        "colab": {
          "base_uri": "https://localhost:8080/",
          "height": 265
        }
      },
      "source": [
        "plt.scatter(annotate_data.norm_x, annotate_data.norm_y, c=labels)\n",
        "plt.show()"
      ],
      "execution_count": 0,
      "outputs": [
        {
          "output_type": "display_data",
          "data": {
            "image/png": "[encoded data removed]",
            "text/plain": [
              "<Figure size 432x288 with 1 Axes>"
            ]
          },
          "metadata": {
            "tags": [],
            "needs_background": "light"
          }
        }
      ]
    },
    {
      "cell_type": "code",
      "metadata": {
        "id": "K-Mct2f-i1M7",
        "colab_type": "code",
        "colab": {}
      },
      "source": [
        "cluster_log =KMeans(n_clusters=4 ).fit(train_df[['log_norm_x', 'log_norm_y']])\n",
        "centers_log=cluster_log.cluster_centers_\n",
        "labels_log=cluster_log.labels_.astype(float)"
      ],
      "execution_count": 0,
      "outputs": []
    },
    {
      "cell_type": "code",
      "metadata": {
        "id": "OB2LGsWWkVfM",
        "colab_type": "code",
        "outputId": "02fdd7f6-82ea-4967-8a18-27699559f637",
        "colab": {
          "base_uri": "https://localhost:8080/",
          "height": 265
        }
      },
      "source": [
        "plt.scatter(train_df.log_norm_x, train_df.log_norm_y, c=labels_log)\n",
        "plt.show()"
      ],
      "execution_count": 0,
      "outputs": [
        {
          "output_type": "display_data",
          "data": {
            "image/png": "[encoded data removed]",
            "text/plain": [
              "<Figure size 432x288 with 1 Axes>"
            ]
          },
          "metadata": {
            "tags": [],
            "needs_background": "light"
          }
        }
      ]
    },
    {
      "cell_type": "code",
      "metadata": {
        "id": "7Wuirg7pk44J",
        "colab_type": "code",
        "colab": {}
      },
      "source": [
        "\n",
        "inertias = [] \n",
        "mapping1 = {} \n",
        "mapping2 = {} \n",
        "K = range(1,10) \n",
        "  \n",
        "for k in K: \n",
        "    #Building and fitting the model \n",
        "    kmeanModel = KMeans(n_clusters=k).fit(train_df[['log_norm_x', 'log_norm_y']]) \n",
        "    kmeanModel.fit((train_df[['log_norm_x', 'log_norm_y']]))     \n",
        "      \n",
        "  \n",
        "    inertias.append(kmeanModel.inertia_) \n",
        "  \n",
        "    #mapping1[k] = sum(np.min(cdist(X, kmeanModel.cluster_centers_, \n",
        "                 #'euclidean'),axis=1)) / X.shape[0] \n",
        "    #mapping2[k] = kmeanModel.inertia_ "
      ],
      "execution_count": 0,
      "outputs": []
    },
    {
      "cell_type": "code",
      "metadata": {
        "id": "S-fcgh2aTDiQ",
        "colab_type": "code",
        "outputId": "95d8b126-b650-46e8-ea47-d86ff5f46764",
        "colab": {
          "base_uri": "https://localhost:8080/",
          "height": 295
        }
      },
      "source": [
        "plt.plot(K, inertias, 'bx-') \n",
        "plt.xlabel('Values of K') \n",
        "plt.ylabel('Inertia') \n",
        "plt.title('The Elbow Method using Inertia') \n",
        "plt.show() "
      ],
      "execution_count": 0,
      "outputs": [
        {
          "output_type": "display_data",
          "data": {
            "image/png": "[encoded data removed]",
            "text/plain": [
              "<Figure size 432x288 with 1 Axes>"
            ]
          },
          "metadata": {
            "tags": [],
            "needs_background": "light"
          }
        }
      ]
    },
    {
      "cell_type": "markdown",
      "metadata": {
        "id": "IuL319eDlRqD",
        "colab_type": "text"
      },
      "source": [
        "## From the above graph and clusters the good number will be 3 or 4"
      ]
    }
  ]
}