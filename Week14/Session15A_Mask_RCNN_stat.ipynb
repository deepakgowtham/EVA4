{
  "nbformat": 4,
  "nbformat_minor": 0,
  "metadata": {
    "colab": {
      "name": "Session15A_Mask_RCNN_stat.ipynb",
      "provenance": [],
      "collapsed_sections": [],
      "machine_shape": "hm",
      "include_colab_link": true
    },
    "kernelspec": {
      "name": "python3",
      "display_name": "Python 3"
    },
    "accelerator": "GPU"
  },
  "cells": [
    {
      "cell_type": "markdown",
      "metadata": {
        "id": "view-in-github",
        "colab_type": "text"
      },
      "source": [
        "<a href=\"https://colab.research.google.com/github/deepakgowtham/EVA4/blob/master/Week14/Session15A_Mask_RCNN_stat.ipynb\" target=\"_parent\"><img src=\"https://colab.research.google.com/assets/colab-badge.svg\" alt=\"Open In Colab\"/></a>"
      ]
    },
    {
      "cell_type": "code",
      "metadata": {
        "id": "Dm2pvUNCzEY9",
        "colab_type": "code",
        "outputId": "b52dc02f-d658-4b7b-ae8a-5d0668cfad6d",
        "colab": {
          "base_uri": "https://localhost:8080/",
          "height": 122
        }
      },
      "source": [
        "#Mount Google Drive\n",
        "from google.colab import drive\n",
        "drive.mount('/content/gdrive', force_remount=True)"
      ],
      "execution_count": 0,
      "outputs": [
        {
          "output_type": "stream",
          "text": [
            "Go to this URL in a browser: https://accounts.google.com/o/oauth2/auth?client_id=947318989803-6bn6qk8qdgf4n4g3pfee6491hc0brc4i.apps.googleusercontent.com&redirect_uri=urn%3aietf%3awg%3aoauth%3a2.0%3aoob&response_type=code&scope=email%20https%3a%2f%2fwww.googleapis.com%2fauth%2fdocs.test%20https%3a%2f%2fwww.googleapis.com%2fauth%2fdrive%20https%3a%2f%2fwww.googleapis.com%2fauth%2fdrive.photos.readonly%20https%3a%2f%2fwww.googleapis.com%2fauth%2fpeopleapi.readonly\n",
            "\n",
            "Enter your authorization code:\n",
            "··········\n",
            "Mounted at /content/gdrive\n"
          ],
          "name": "stdout"
        }
      ]
    },
    {
      "cell_type": "code",
      "metadata": {
        "id": "lKLURFUNEkBL",
        "colab_type": "code",
        "colab": {}
      },
      "source": [
        "import cv2\n",
        "import numpy as np\n",
        "import matplotlib.pyplot as plt\n",
        "from random import randint\n",
        "import os\n",
        "from skimage import io\n",
        "from tqdm import tqdm\n"
      ],
      "execution_count": 0,
      "outputs": []
    },
    {
      "cell_type": "markdown",
      "metadata": {
        "id": "Z5QXCKu2MLNn",
        "colab_type": "text"
      },
      "source": [
        "Mean/STD values for your fg_bg, masks and depth images"
      ]
    },
    {
      "cell_type": "code",
      "metadata": {
        "id": "1CMUOd5xHGtF",
        "colab_type": "code",
        "colab": {}
      },
      "source": [
        "from __future__ import print_function\n",
        "import torch\n",
        "import torch.nn as nn\n",
        "import torch.nn.functional as F\n",
        "import torch.optim as optim\n",
        "from torchvision import datasets, transforms\n",
        "from torch.utils.data import DataLoader"
      ],
      "execution_count": 0,
      "outputs": []
    },
    {
      "cell_type": "code",
      "metadata": {
        "id": "t7jBsGX8PQao",
        "colab_type": "code",
        "colab": {}
      },
      "source": [
        "!mkdir /content/Mask_RCNN/fg_bg_mask/fg_bg_mask\n",
        "!mkdir /content/Mask_RCNN/Depth_output/Depth_output"
      ],
      "execution_count": 0,
      "outputs": []
    },
    {
      "cell_type": "code",
      "metadata": {
        "id": "HQe8QtdyPZ1C",
        "colab_type": "code",
        "outputId": "e37fd1a3-81ca-4cd1-c931-94e6750cf47e",
        "colab": {
          "base_uri": "https://localhost:8080/",
          "height": 34
        }
      },
      "source": [
        "import shutil\n",
        "\n",
        "source='/content/Mask_RCNN/fg_bg_mask/'\n",
        "dest1= '/content/Mask_RCNN/fg_bg_mask/fg_bg_mask'\n",
        "files = os.listdir(source)\n",
        "\n",
        "for f in tqdm(files):\n",
        "    shutil.move(source+f, dest1)"
      ],
      "execution_count": 0,
      "outputs": [
        {
          "output_type": "stream",
          "text": [
            "100%|██████████| 424321/424321 [00:35<00:00, 11814.61it/s]\n"
          ],
          "name": "stderr"
        }
      ]
    },
    {
      "cell_type": "code",
      "metadata": {
        "id": "AHy8LH5oQXvu",
        "colab_type": "code",
        "outputId": "d571e3ea-89ad-4c73-b1f7-8e5c1640bb56",
        "colab": {
          "base_uri": "https://localhost:8080/",
          "height": 34
        }
      },
      "source": [
        "len(os.listdir(dest1))"
      ],
      "execution_count": 0,
      "outputs": [
        {
          "output_type": "execute_result",
          "data": {
            "text/plain": [
              "424320"
            ]
          },
          "metadata": {
            "tags": []
          },
          "execution_count": 9
        }
      ]
    },
    {
      "cell_type": "code",
      "metadata": {
        "id": "x1D8MMGfHoix",
        "colab_type": "code",
        "outputId": "371a3b07-cacb-4657-ec33-0f25bff2c33c",
        "colab": {
          "base_uri": "https://localhost:8080/",
          "height": 34
        }
      },
      "source": [
        "torch.cuda.is_available()"
      ],
      "execution_count": 0,
      "outputs": [
        {
          "output_type": "execute_result",
          "data": {
            "text/plain": [
              "True"
            ]
          },
          "metadata": {
            "tags": []
          },
          "execution_count": 2
        }
      ]
    },
    {
      "cell_type": "code",
      "metadata": {
        "id": "KcIha5kYHGpR",
        "colab_type": "code",
        "outputId": "c72dd848-8c39-400b-eb29-35a156034e12",
        "colab": {
          "base_uri": "https://localhost:8080/",
          "height": 34
        }
      },
      "source": [
        "transform = transforms.Compose([transforms.ToTensor()])\n",
        "dataset = datasets.ImageFolder(root='/content/Mask_RCNN/fg_bg/', transform=transform)\n",
        "\n",
        "\n",
        "loader = DataLoader(\n",
        "    dataset,\n",
        "    batch_size=600,\n",
        "    num_workers=1,\n",
        "    shuffle=False,\n",
        "    pin_memory=True\n",
        ")\n",
        "\n",
        "\n",
        "mean = 0.\n",
        "std = 0.\n",
        "nb_samples = 0.\n",
        "for data,_ in tqdm(loader):\n",
        "    batch_samples = data.size(0)\n",
        "    data = data.view(batch_samples, data.size(1), -1)\n",
        "    mean += data.mean(2).sum(0)\n",
        "    std += data.std(2).sum(0)\n",
        "    nb_samples += batch_samples\n",
        "\n",
        "mean /= nb_samples\n",
        "std /= nb_samples"
      ],
      "execution_count": 0,
      "outputs": [
        {
          "output_type": "stream",
          "text": [
            "100%|██████████| 708/708 [21:21<00:00,  1.81s/it]\n"
          ],
          "name": "stderr"
        }
      ]
    },
    {
      "cell_type": "code",
      "metadata": {
        "id": "z7rABmZuNKpt",
        "colab_type": "code",
        "outputId": "9d00aded-f550-4b76-fe5e-7d7c2116f00d",
        "colab": {
          "base_uri": "https://localhost:8080/",
          "height": 34
        }
      },
      "source": [
        "mean, std"
      ],
      "execution_count": 0,
      "outputs": [
        {
          "output_type": "execute_result",
          "data": {
            "text/plain": [
              "(tensor([0.3931, 0.3785, 0.3606]), tensor([0.1965, 0.1813, 0.1779]))"
            ]
          },
          "metadata": {
            "tags": []
          },
          "execution_count": 6
        }
      ]
    },
    {
      "cell_type": "code",
      "metadata": {
        "id": "Xfg_mJW7F5Wx",
        "colab_type": "code",
        "outputId": "65c7ada1-3aeb-4377-cdbd-89d3121e503a",
        "colab": {
          "base_uri": "https://localhost:8080/",
          "height": 102
        }
      },
      "source": [
        "lis1=os.listdir('/content/Mask_RCNN/Depth_output/content/Mask_RCNN/Depth_output')\n",
        "lis1[:5]"
      ],
      "execution_count": 0,
      "outputs": [
        {
          "output_type": "execute_result",
          "data": {
            "text/plain": [
              "['bg_60fg_63_flip_20.jpg',\n",
              " 'bg_83fg_9_10.jpg',\n",
              " 'bg_60fg_36_4.jpg',\n",
              " 'bg_8fg_45_13.jpg',\n",
              " 'bg_3fg_51_flip_3.jpg']"
            ]
          },
          "metadata": {
            "tags": []
          },
          "execution_count": 3
        }
      ]
    },
    {
      "cell_type": "code",
      "metadata": {
        "id": "Kaza4G-7HHg8",
        "colab_type": "code",
        "colab": {}
      },
      "source": [
        "!cd /content/Mask_RCNN/mask; unzip /content/gdrive/My\\ Drive/RCNN/fg_bg_mask.zip "
      ],
      "execution_count": 0,
      "outputs": []
    },
    {
      "cell_type": "code",
      "metadata": {
        "id": "reaRVi2bMsMp",
        "colab_type": "code",
        "outputId": "f27fc00e-bdab-4030-955a-b9daf03460dd",
        "colab": {
          "base_uri": "https://localhost:8080/",
          "height": 51
        }
      },
      "source": [
        "transform = transforms.Compose([transforms.Grayscale(num_output_channels=1),transforms.ToTensor()])\n",
        "dataset = datasets.ImageFolder(root='/content/Mask_RCNN/mask/Mask_RCNN', transform=transform)\n",
        "\n",
        "\n",
        "loader = DataLoader(\n",
        "    dataset,\n",
        "    batch_size=512,\n",
        "    num_workers=1,\n",
        "    shuffle=False,\n",
        "    pin_memory=True\n",
        ")\n",
        "\n",
        "\n",
        "mask_mean = 0.\n",
        "mask_std = 0.\n",
        "nb_samples = 0.\n",
        "for data,_ in tqdm(loader):\n",
        "    batch_samples = data.size(0)\n",
        "    data = data.view(batch_samples, data.size(1), -1)\n",
        "    mask_mean += data.mean(2).sum(0)\n",
        "    mask_std += data.std(2).sum(0)\n",
        "    nb_samples += batch_samples\n",
        "\n",
        "mask_mean /= nb_samples\n",
        "mask_std /= nb_samples\n",
        "\n",
        "mask_mean, mask_std"
      ],
      "execution_count": 0,
      "outputs": [
        {
          "output_type": "stream",
          "text": [
            "100%|██████████| 829/829 [05:04<00:00,  2.73it/s]\n"
          ],
          "name": "stderr"
        },
        {
          "output_type": "execute_result",
          "data": {
            "text/plain": [
              "(tensor([0.1630]), tensor([0.3598]))"
            ]
          },
          "metadata": {
            "tags": []
          },
          "execution_count": 7
        }
      ]
    },
    {
      "cell_type": "code",
      "metadata": {
        "id": "U0-CDmUJJHdD",
        "colab_type": "code",
        "colab": {}
      },
      "source": [
        "!cd /content/Mask_RCNN/depth; unzip /content/gdrive/My\\ Drive/RCNN/Depth_output.zip"
      ],
      "execution_count": 0,
      "outputs": []
    },
    {
      "cell_type": "code",
      "metadata": {
        "id": "1cGTW4wJG-6r",
        "colab_type": "code",
        "outputId": "3317abc3-fa86-4b99-8454-0d8e638a4f98",
        "colab": {
          "base_uri": "https://localhost:8080/",
          "height": 51
        }
      },
      "source": [
        "transform = transforms.Compose([transforms.Grayscale(num_output_channels=1),transforms.ToTensor()])\n",
        "dataset = datasets.ImageFolder(root='/content/Mask_RCNN/depth/content/Mask_RCNN', transform=transform)\n",
        "\n",
        "\n",
        "loader = DataLoader(\n",
        "    dataset,\n",
        "    batch_size=512,\n",
        "    num_workers=1,\n",
        "    shuffle=False,\n",
        "    pin_memory=True\n",
        ")\n",
        "\n",
        "\n",
        "depth_mean = 0.\n",
        "depth_std = 0.\n",
        "nb_samples = 0.\n",
        "for data,_ in tqdm(loader):\n",
        "    batch_samples = data.size(0)\n",
        "    data = data.view(batch_samples, data.size(1), -1)\n",
        "    depth_mean += data.mean(2).sum(0)\n",
        "    depth_std += data.std(2).sum(0)\n",
        "    nb_samples += batch_samples\n",
        "\n",
        "depth_mean /= nb_samples\n",
        "depth_std /= nb_samples\n",
        "\n",
        "depth_mean, depth_std"
      ],
      "execution_count": 0,
      "outputs": [
        {
          "output_type": "stream",
          "text": [
            "100%|██████████| 829/829 [05:00<00:00,  2.76it/s]\n"
          ],
          "name": "stderr"
        },
        {
          "output_type": "execute_result",
          "data": {
            "text/plain": [
              "(tensor([0.0878]), tensor([0.0157]))"
            ]
          },
          "metadata": {
            "tags": []
          },
          "execution_count": 4
        }
      ]
    }
  ]
}