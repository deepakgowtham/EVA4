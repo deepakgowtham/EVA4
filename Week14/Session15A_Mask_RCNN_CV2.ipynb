{
  "nbformat": 4,
  "nbformat_minor": 0,
  "metadata": {
    "colab": {
      "name": "Session15A_Mask_RCNN_CV2.ipynb",
      "provenance": [],
      "collapsed_sections": [],
      "machine_shape": "hm",
      "include_colab_link": true
    },
    "kernelspec": {
      "name": "python3",
      "display_name": "Python 3"
    },
    "accelerator": "GPU"
  },
  "cells": [
    {
      "cell_type": "markdown",
      "metadata": {
        "id": "view-in-github",
        "colab_type": "text"
      },
      "source": [
        "<a href=\"https://colab.research.google.com/github/deepakgowtham/EVA4/blob/master/Week14/Session15A_Mask_RCNN_CV2.ipynb\" target=\"_parent\"><img src=\"https://colab.research.google.com/assets/colab-badge.svg\" alt=\"Open In Colab\"/></a>"
      ]
    },
    {
      "cell_type": "code",
      "metadata": {
        "id": "Dm2pvUNCzEY9",
        "colab_type": "code",
        "outputId": "b52dc02f-d658-4b7b-ae8a-5d0668cfad6d",
        "colab": {
          "base_uri": "https://localhost:8080/",
          "height": 122
        }
      },
      "source": [
        "#Mount Google Drive\n",
        "from google.colab import drive\n",
        "drive.mount('/content/gdrive', force_remount=True)"
      ],
      "execution_count": 0,
      "outputs": [
        {
          "output_type": "stream",
          "text": [
            "Go to this URL in a browser: https://accounts.google.com/o/oauth2/auth?client_id=947318989803-6bn6qk8qdgf4n4g3pfee6491hc0brc4i.apps.googleusercontent.com&redirect_uri=urn%3aietf%3awg%3aoauth%3a2.0%3aoob&response_type=code&scope=email%20https%3a%2f%2fwww.googleapis.com%2fauth%2fdocs.test%20https%3a%2f%2fwww.googleapis.com%2fauth%2fdrive%20https%3a%2f%2fwww.googleapis.com%2fauth%2fdrive.photos.readonly%20https%3a%2f%2fwww.googleapis.com%2fauth%2fpeopleapi.readonly\n",
            "\n",
            "Enter your authorization code:\n",
            "··········\n",
            "Mounted at /content/gdrive\n"
          ],
          "name": "stdout"
        }
      ]
    },
    {
      "cell_type": "code",
      "metadata": {
        "id": "lKLURFUNEkBL",
        "colab_type": "code",
        "colab": {}
      },
      "source": [
        "import cv2\n",
        "import numpy as np\n",
        "import matplotlib.pyplot as plt\n",
        "from random import randint\n",
        "import os\n",
        "from skimage import io\n",
        "from tqdm import tqdm\n"
      ],
      "execution_count": 0,
      "outputs": []
    },
    {
      "cell_type": "code",
      "metadata": {
        "id": "c71tpQ4aDs-W",
        "colab_type": "code",
        "outputId": "2ea5dc32-0607-4708-8fae-a446c54fedf3",
        "colab": {
          "base_uri": "https://localhost:8080/",
          "height": 221
        }
      },
      "source": [
        "#copy bg/fg/mask files from Drive\n",
        "%%bash\n",
        "cd /content\n",
        "mkdir Mask_RCNN\n",
        "cp -r /content/gdrive/My\\ Drive/RCNN/* Mask_RCNN/\n",
        "#cp -r /content/gdrive/My\\ Drive/resized/Cars_Mask Mask_RCNN/\n",
        "#cp -r /content/gdrive/My\\ Drive/resized/bg Mask_RCNN/\n",
        "#cp -r /content/gdrive/My\\ Drive/resized/fg_bg Mask_RCNN/\n",
        "#cp -r /content/gdrive/My\\ Drive/resized/fg_bg_mask Mask_RCNN/\n",
        "ls Mask_RCNN/fg/ |wc -l\n",
        "ls Mask_RCNN/Cars_Mask/ |wc -l\n",
        "ls Mask_RCNN/bg/ |wc -l\n",
        "ls Mask_RCNN/fg_bg/ |wc -l\n",
        "ls Mask_RCNN/fg_bg_mask/ |wc -l\n",
        "\n",
        "ls -lrt Mask_RCNN/"
      ],
      "execution_count": 0,
      "outputs": [
        {
          "output_type": "stream",
          "text": [
            "104\n",
            "0\n",
            "102\n",
            "0\n",
            "0\n",
            "total 20\n",
            "drwx------ 2 root root 4096 May  9 06:26 bg\n",
            "drwx------ 2 root root 4096 May  9 06:26 Cars_Mask\n",
            "drwx------ 2 root root 4096 May  9 06:26 fg\n",
            "drwx------ 2 root root 4096 May  9 06:26 fg_bg_mask\n",
            "drwx------ 2 root root 4096 May  9 06:26 fg_bg\n"
          ],
          "name": "stdout"
        },
        {
          "output_type": "stream",
          "text": [
            "mkdir: cannot create directory ‘Mask_RCNN’: File exists\n"
          ],
          "name": "stderr"
        }
      ]
    },
    {
      "cell_type": "code",
      "metadata": {
        "id": "Q7kxsHTGNcST",
        "colab_type": "code",
        "colab": {}
      },
      "source": [
        "#Function to gegerate Mask\n",
        "def gen_mask(T, image):\n",
        "    # grab the image dimensions\n",
        "    h = image.shape[0]\n",
        "    w = image.shape[1]\n",
        "    \n",
        "    # loop over the image, pixel by pixel\n",
        "    for y in range(0, h):\n",
        "        for x in range(0, w):\n",
        "            # threshold the pixel\n",
        "            image[y, x] = 255 if image[y, x] >= T else 0\n",
        "            \n",
        "    # return the thresholded image\n",
        "    return image"
      ],
      "execution_count": 0,
      "outputs": []
    },
    {
      "cell_type": "code",
      "metadata": {
        "id": "iNZ1CMG_Nl3C",
        "colab_type": "code",
        "colab": {}
      },
      "source": [
        "#Generate mask\n",
        "import os\n",
        "import numpy as np\n",
        "import matplotlib.pyplot as plt\n",
        "\n",
        "path='./Mask_RCNN/fg/'\n",
        "tgt_path='./Mask_RCNN/Cars_Mask/'\n",
        "for im_name in os.listdir(path):\n",
        "    src1 = cv2.imread(path+im_name)\n",
        "    gray = cv2.cvtColor(src1, cv2.COLOR_BGR2GRAY)\n",
        "    img=gen_mask(1,gray)\n",
        "    arr = np.asarray(img)\n",
        "    cv2.imwrite(tgt_path+im_name, img)"
      ],
      "execution_count": 0,
      "outputs": []
    },
    {
      "cell_type": "code",
      "metadata": {
        "id": "_CDC6iH7OQOG",
        "colab_type": "code",
        "colab": {}
      },
      "source": [
        "!cp Mask_RCNN/Cars_Mask/* /content/gdrive/My\\ Drive/RCNN/Cars_Mask/"
      ],
      "execution_count": 0,
      "outputs": []
    },
    {
      "cell_type": "code",
      "metadata": {
        "id": "m_OpyuiRUjIq",
        "colab_type": "code",
        "colab": {}
      },
      "source": [
        "## Function to Create Overlay\n",
        "def overlay_fg_bg(fg,bg,x_offset,y_offset,tgt_save):\n",
        "    fg_bg=bg.copy()\n",
        "    y1, y2 = y_offset, y_offset + fg.shape[0]\n",
        "    x1, x2 = x_offset, x_offset + fg.shape[1]\n",
        "    \n",
        "    alpha_fg = fg[:, :, 3] / 255.0\n",
        "    alpha_bg = 1.0 - alpha_fg\n",
        "\n",
        "    for c in range(0, 3):\n",
        "        fg_bg[y1:y2, x1:x2, c] = (alpha_fg * fg[:, :, c] +\n",
        "                                  alpha_bg * bg[y1:y2, x1:x2, c])\n",
        "\n",
        "\n",
        "    cv2.imwrite(tgt_save,fg_bg)\n",
        "    \n",
        "    #arr = np.asarray(fg_bg)\n",
        "    #plt.imshow(arr, vmin=0, vmax=255)\n",
        "    #plt.show()\n",
        "    \n",
        "def overlay_mask(fg,bg,x_offset,y_offset,tgt_save):\n",
        "    fg_bg=bg.copy()\n",
        "    fg_bg[y_offset:y_offset+fg.shape[0], x_offset:x_offset+fg.shape[1]] = fg\n",
        "\n",
        "\n",
        "    cv2.imwrite(tgt_save,fg_bg)"
      ],
      "execution_count": 0,
      "outputs": []
    },
    {
      "cell_type": "code",
      "metadata": {
        "id": "64K18d9scXQ3",
        "colab_type": "code",
        "colab": {}
      },
      "source": [
        "%%timeit\n",
        "#Generate fg_bg and mask with fg Size\n",
        "tgt_path=\"./Mask_RCNN/fg_bg/\"\n",
        "mask_tgt_path=\"./Mask_RCNN/fg_bg_mask/\"\n",
        "bg_path=\"./Mask_RCNN/bg/\"\n",
        "fg_path=\"./Mask_RCNN/fg/\"\n",
        "mask_path=\"./Mask_RCNN/Cars_Mask/\"\n",
        "\n",
        "mask_bg = np.zeros((224,224), np.uint8)\n",
        "\n",
        "for i_bg in os.listdir(bg_path):\n",
        "    bg = cv2.imread(bg_path+i_bg)\n",
        "    bg_name=os.path.splitext(i_bg)[0]\n",
        "    \n",
        "    for i_fg in os.listdir(fg_path):\n",
        "        fg = cv2.imread(fg_path+i_fg, -1)\n",
        "        fg_name=os.path.splitext(i_fg)[0]\n",
        "        mask_fg = cv2.imread(mask_path+i_fg, -1)\n",
        "        fg_flip=cv2.flip(fg,1)\n",
        "        fg_flip_name=fg_name+'_flip'\n",
        "        mask_fg_flip=cv2.flip(mask_fg,1)\n",
        "        for i in range(1,21):\n",
        "            x_offset=randint(0,64)\n",
        "            y_offset=randint(0,64)\n",
        "            #fg on bg\n",
        "            tgt_save=tgt_path+bg_name+fg_name+'_'+str(i)+'.jpg'\n",
        "            overlay_fg_bg(fg,bg,x_offset,y_offset,tgt_save)\n",
        "            \n",
        "            #mask on black bg\n",
        "            tgt_save=mask_tgt_path+bg_name+fg_name+'_'+str(i)+'.jpg'\n",
        "            overlay_mask(mask_fg,mask_bg,x_offset,y_offset,tgt_save)\n",
        "\n",
        "            #LR Flipped fg on bg\n",
        "            tgt_save=tgt_path+bg_name+fg_flip_name+'_'+str(i)+'.jpg'\n",
        "            overlay_fg_bg(fg_flip,bg,x_offset,y_offset,tgt_save)\n",
        "            \n",
        "            #LR Flipped mask on black bg\n",
        "            tgt_save=mask_tgt_path+bg_name+fg_flip_name+'_'+str(i)+'.jpg'\n",
        "            overlay_mask(mask_fg_flip,mask_bg,x_offset,y_offset,tgt_save)"
      ],
      "execution_count": 0,
      "outputs": []
    },
    {
      "cell_type": "code",
      "metadata": {
        "id": "QEMGvDhG_i1e",
        "colab_type": "code",
        "outputId": "f4110ba8-0c93-4c6f-d6bd-bc81de7606fe",
        "colab": {
          "base_uri": "https://localhost:8080/",
          "height": 119
        }
      },
      "source": [
        "%%bash\n",
        "#Check the image counts\n",
        "cd /content\n",
        "ls Mask_RCNN/fg/ |wc -l\n",
        "ls Mask_RCNN/Cars_Mask/ |wc -l\n",
        "ls Mask_RCNN/bg/ |wc -l\n",
        "ls Mask_RCNN/fg_bg/ |wc -l\n",
        "ls Mask_RCNN/fg_bg_mask/ |wc -l\n",
        "du -sh Mask_RCNN/"
      ],
      "execution_count": 0,
      "outputs": [
        {
          "output_type": "stream",
          "text": [
            "104\n",
            "104\n",
            "102\n",
            "424320\n",
            "424320\n",
            "11G\tMask_RCNN/\n"
          ],
          "name": "stdout"
        }
      ]
    },
    {
      "cell_type": "code",
      "metadata": {
        "id": "Cbm5_pNqmwLf",
        "colab_type": "code",
        "outputId": "177602cf-553c-447c-d2b5-a307938ca7d3",
        "colab": {
          "base_uri": "https://localhost:8080/",
          "height": 187
        }
      },
      "source": [
        "#Zip files to Google Drive\n",
        "%%bash\n",
        "zip -r /content/gdrive/My\\ Drive/RCNN/fg_bg.zip ./Mask_RCNN/fg_bg\n",
        "zip -r /content/gdrive/My\\ Drive/RCNN/fg_bg_mask.zip ./Mask_RCNN/fg_bg_mask"
      ],
      "execution_count": 0,
      "outputs": [
        {
          "output_type": "stream",
          "text": [
            "IOPub data rate exceeded.\n",
            "The notebook server will temporarily stop sending output\n",
            "to the client in order to avoid crashing it.\n",
            "To change this limit, set the config variable\n",
            "`--NotebookApp.iopub_data_rate_limit`.\n",
            "\n",
            "Current values:\n",
            "NotebookApp.iopub_data_rate_limit=1000000.0 (bytes/sec)\n",
            "NotebookApp.rate_limit_window=3.0 (secs)\n",
            "\n"
          ],
          "name": "stderr"
        }
      ]
    }
  ]
}